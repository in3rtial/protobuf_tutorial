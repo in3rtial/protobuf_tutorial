{
 "cells": [
  {
   "cell_type": "markdown",
   "metadata": {},
   "source": [
    "# Basics of using protobufs\n",
    "- based mostly on https://developers.google.com/protocol-buffers/docs/pythontutorial"
   ]
  },
  {
   "cell_type": "markdown",
   "metadata": {},
   "source": [
    "# Step 0: installing dependencies and protobuf\n",
    "\n",
    "### install the protobuf tooling\n",
    "- simple setup: ```sudo snap install protobuf --classic ```\n",
    "- complete setup: https://github.com/protocolbuffers/protobuf/blob/master/src/README.md\n",
    "\n",
    "### install python requirements libraries\n",
    "```pip install -r requirements.txt```"
   ]
  },
  {
   "cell_type": "markdown",
   "metadata": {},
   "source": [
    "# Step 1: define a protocol format\n",
    "- stored in .proto file\n",
    "- a message for each data structure you want to serialize"
   ]
  },
  {
   "cell_type": "code",
   "execution_count": 1,
   "metadata": {},
   "outputs": [
    {
     "name": "stdout",
     "output_type": "stream",
     "text": [
      "\r\n",
      "syntax = \"proto2\";\r\n",
      "\r\n",
      "package tutorial;\r\n",
      "\r\n",
      "message Person {\r\n",
      "  optional string name = 1;\r\n",
      "  optional int32 id = 2;\r\n",
      "  optional string email = 3;\r\n",
      "\r\n",
      "  enum PhoneType {\r\n",
      "    MOBILE = 0;\r\n",
      "    HOME = 1;\r\n",
      "    WORK = 2;\r\n",
      "  }\r\n",
      "\r\n",
      "  message PhoneNumber {\r\n",
      "    optional string number = 1;\r\n",
      "    optional PhoneType type = 2 [default = HOME];\r\n",
      "  }\r\n",
      "\r\n",
      "  repeated PhoneNumber phones = 4;\r\n",
      "}\r\n",
      "\r\n",
      "message AddressBook {\r\n",
      "  repeated Person people = 1;\r\n",
      "}\r\n"
     ]
    }
   ],
   "source": [
    "# canonical example used by google documentation is an address book\n",
    "# it's a list of people with their phone numbers\n",
    "# https://developers.google.com/protocol-buffers/docs/pythontutorial\n",
    "! cat proto/addressbook.proto"
   ]
  },
  {
   "cell_type": "markdown",
   "metadata": {},
   "source": [
    "# Step 2: Generate language-specific bindings\n",
    "- given the .proto schema, generate the necessary files for target languages\n",
    "- protoc is the protobuf compiler, it creates necessary boilerplace files in the target\n",
    "\n",
    "<img src=\"../figures/protoc.png\"/>"
   ]
  },
  {
   "cell_type": "code",
   "execution_count": 2,
   "metadata": {},
   "outputs": [
    {
     "name": "stdout",
     "output_type": "stream",
     "text": [
      "/bin/bash: protoc: command not found\n",
      "/bin/bash: protoc: command not found\n"
     ]
    }
   ],
   "source": [
    "import os\n",
    "\n",
    "!rm -rf tmp\n",
    "!mkdir tmp\n",
    "\n",
    "SRC_DIR = os.path.realpath(\"proto\") # keep the .proto file in proto folder\n",
    "DST_DIR = os.path.realpath(\"tmp\") # keep generated files in tmp folder\n",
    "\n",
    "# generate python bindings\n",
    "!protoc -I=$SRC_DIR --python_out=$DST_DIR  $SRC_DIR/addressbook.proto\n",
    "\n",
    "# generate c++ bindings for later\n",
    "!protoc -I=$SRC_DIR --cpp_out=$DST_DIR  $SRC_DIR/addressbook.proto"
   ]
  },
  {
   "cell_type": "markdown",
   "metadata": {},
   "source": [
    "# Step 3: instantiation, serialization and de-serialization\n",
    "- encoding process described in more details here https://developers.google.com/protocol-buffers/docs/encoding"
   ]
  },
  {
   "cell_type": "code",
   "execution_count": null,
   "metadata": {},
   "outputs": [],
   "source": [
    "import sys\n",
    "sys.path.insert(0, DST_DIR) # add the tmp folder to the PYTHON_PATH\n",
    "\n",
    "import addressbook_pb2"
   ]
  },
  {
   "cell_type": "markdown",
   "metadata": {},
   "source": [
    "### Equality of objects is based on state"
   ]
  },
  {
   "cell_type": "code",
   "execution_count": 34,
   "metadata": {},
   "outputs": [],
   "source": []
  },
  {
   "cell_type": "code",
   "execution_count": null,
   "metadata": {},
   "outputs": [],
   "source": [
    "def instantiate_person():\n",
    "    person = addressbook_pb2.Person()\n",
    "    person.id = 1234\n",
    "    person.name = \"person_name\"\n",
    "    person.email = \"person_email\"\n",
    "    phone = person.phones.add()\n",
    "    phone.number = \"123-4567\"\n",
    "    phone.type = addressbook_pb2.Person.HOME\n",
    "    return person\n",
    "\n",
    "def test_equality():\n",
    "    \"\"\"establishes the concept of equality for a protobuf message in python\"\"\"\n",
    "    first = instantiate_person()\n",
    "    second = instantiate_person()\n",
    "\n",
    "    # different memory addresses\n",
    "    assert id(first) != id(second)\n",
    "\n",
    "    # yet they are equal since their fields have the same values\n",
    "    assert first == second\n",
    "\n",
    "    # once a field changes, they're not equal anymore\n",
    "    first.name = \"new_name\"\n",
    "    assert first != second\n",
    "\n",
    "test_equality()"
   ]
  },
  {
   "cell_type": "markdown",
   "metadata": {},
   "source": [
    "### Objects can be converted back and forth to wire format (serialized)"
   ]
  },
  {
   "cell_type": "code",
   "execution_count": null,
   "metadata": {},
   "outputs": [],
   "source": [
    "def test_serialization():\n",
    "    \"\"\"establishes properties of the conversion object <-> bytes\"\"\"\n",
    "    first = instantiate_person()\n",
    "    \n",
    "    first_serialized = first.SerializeToString()\n",
    "    \n",
    "    # SerializeToString generates a byte representation of the object\n",
    "    # this is adequate to send over network or store in a file as long as the\n",
    "    # protobuf schema doesn't change in certain ways\n",
    "    assert isinstance(first_serialized, bytes)\n",
    "    print(\"this is what it looks like serialized:\\n{}\".format(first_serialized))\n",
    "    \n",
    "    # we can re-construct an object from bytes after serializing\n",
    "    first_deserialized = addressbook_pb2.Person()\n",
    "    first_deserialized.ParseFromString(first_serialized)\n",
    "\n",
    "    assert id(first) != id(first_deserialized)\n",
    "    assert first == first_deserialized\n",
    "\n",
    "test_serialization()"
   ]
  },
  {
   "cell_type": "markdown",
   "metadata": {},
   "source": [
    "### We can convert a protobuf object to json (useful for debugging)"
   ]
  },
  {
   "cell_type": "code",
   "execution_count": null,
   "metadata": {},
   "outputs": [],
   "source": [
    "from google.protobuf.json_format import MessageToJson\n",
    "\n",
    "def test_json_conversion():\n",
    "    \"\"\"verify what a \"\"\"\n",
    "    person = instantiate_person()\n",
    "    return MessageToJson(person)\n",
    "\n",
    "print(test_json_conversion())"
   ]
  },
  {
   "cell_type": "markdown",
   "metadata": {},
   "source": [
    "## Step 4: communication between languages/architectures\n",
    "- one of the big challenges of a wire format is to abstract away architecture-specific details e.g. endianness\n",
    "- there's an extensive description of various \"wire types\" in the message structure part of https://developers.google.com/protocol-buffers/docs/encoding\n"
   ]
  },
  {
   "cell_type": "code",
   "execution_count": null,
   "metadata": {},
   "outputs": [],
   "source": [
    "# compile the cpp code\n",
    "!g++ -L $DST_DIR cpp/proto_reader.cpp -lprotobuf -pthread"
   ]
  },
  {
   "cell_type": "code",
   "execution_count": null,
   "metadata": {},
   "outputs": [],
   "source": [
    "help(person)"
   ]
  },
  {
   "cell_type": "code",
   "execution_count": 38,
   "metadata": {},
   "outputs": [
    {
     "data": {
      "text/plain": [
       "139936239060032"
      ]
     },
     "execution_count": 38,
     "metadata": {},
     "output_type": "execute_result"
    }
   ],
   "source": [
    "id(p1)"
   ]
  }
 ],
 "metadata": {
  "kernelspec": {
   "display_name": "Python 3",
   "language": "python",
   "name": "python3"
  },
  "language_info": {
   "codemirror_mode": {
    "name": "ipython",
    "version": 3
   },
   "file_extension": ".py",
   "mimetype": "text/x-python",
   "name": "python",
   "nbconvert_exporter": "python",
   "pygments_lexer": "ipython3",
   "version": "3.8.5"
  }
 },
 "nbformat": 4,
 "nbformat_minor": 4
}
